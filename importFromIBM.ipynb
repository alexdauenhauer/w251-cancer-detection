{
 "cells": [
  {
   "cell_type": "code",
   "execution_count": 1,
   "metadata": {},
   "outputs": [
    {
     "name": "stdout",
     "output_type": "stream",
     "text": [
      "/root\n"
     ]
    }
   ],
   "source": [
    "# Change directory to VSCode workspace root so that relative path loads work correctly. Turn this addition off with the DataScience.changeDirOnImportExport setting\n",
    "# ms-python.python added\n",
    "import os\n",
    "try:\n",
    "\tos.chdir(os.path.join(os.getcwd(), '..'))\n",
    "\tprint(os.getcwd())\n",
    "except:\n",
    "\tpass\n"
   ]
  },
  {
   "cell_type": "code",
   "execution_count": 2,
   "metadata": {},
   "outputs": [],
   "source": [
    "# Importing video data from ibm COS\n"
   ]
  },
  {
   "cell_type": "code",
   "execution_count": 1,
   "metadata": {},
   "outputs": [],
   "source": [
    "import json\n",
    "import os\n",
    "import pickle\n",
    "import random\n",
    "import sys\n",
    "import time\n",
    "import argparse\n",
    "import shutil\n",
    "\n",
    "import cv2\n",
    "import ibm_boto3\n",
    "import numpy as np\n",
    "import pandas as pd\n",
    "from ibm_botocore.client import Config\n",
    "from tqdm import tqdm\n"
   ]
  },
  {
   "cell_type": "code",
   "execution_count": 4,
   "metadata": {},
   "outputs": [
    {
     "name": "stderr",
     "output_type": "stream",
     "text": [
      "usage: ipykernel_launcher.py [-h] [--path PATH]\n",
      "ipykernel_launcher.py: error: unrecognized arguments: -f /root/.local/share/jupyter/runtime/kernel-17de28a5-289b-446b-b297-e39116c5feaf.json\n"
     ]
    },
    {
     "ename": "SystemExit",
     "evalue": "2",
     "output_type": "error",
     "traceback": [
      "An exception has occurred, use %tb to see the full traceback.\n",
      "\u001b[0;31mSystemExit\u001b[0m\u001b[0;31m:\u001b[0m 2\n"
     ]
    },
    {
     "name": "stderr",
     "output_type": "stream",
     "text": [
      "/root/w251fp/lib/python3.6/site-packages/IPython/core/interactiveshell.py:3334: UserWarning: To exit: use 'exit', 'quit', or Ctrl-D.\n",
      "  warn(\"To exit: use 'exit', 'quit', or Ctrl-D.\", stacklevel=1)\n"
     ]
    }
   ],
   "source": [
    "parser = argparse.ArgumentParser()\n",
    "parser.add_argument('--path', help='path to save vids at')\n",
    "args = parser.parse_args()\n"
   ]
  },
  {
   "cell_type": "code",
   "execution_count": 2,
   "metadata": {},
   "outputs": [],
   "source": [
    "# cred_path = \"/root/creds/w251-credentials.json\"\n",
    "cred_path = \"../creds/w251-credentials.json\"\n",
    "with open(cred_path, \"r\") as f:\n",
    "    creds = json.load(f)"
   ]
  },
  {
   "cell_type": "code",
   "execution_count": 3,
   "metadata": {},
   "outputs": [],
   "source": [
    "auth_endpoint = 'https://iam.bluemix.net/oidc/token'\n",
    "service_endpoint = 'https://s3.us-east.cloud-object-storage.appdomain.cloud'\n",
    "\n",
    "# Store relevant details for interacting with IBM COS store and uploading data\n",
    "cos = ibm_boto3.resource('s3',\n",
    "                         ibm_api_key_id=creds['apikey'],\n",
    "                         ibm_service_instance_id=creds['resource_instance_id'],\n",
    "                         ibm_auth_endpoint=auth_endpoint,\n",
    "                         config=Config(signature_version='oauth'),\n",
    "                         endpoint_url=service_endpoint)"
   ]
  },
  {
   "cell_type": "code",
   "execution_count": null,
   "metadata": {},
   "outputs": [],
   "source": [
    "# FIXME: need to figure out how to install aspera for massive download speed\n",
    "# boost. Surprisingly, the docs suck\n",
    "#\n",
    "# from ibm_s3transfer.aspera.manager import AsperaTransferManager\n",
    "# cos = ibm_boto3.client('s3',\n",
    "#                          ibm_api_key_id=creds['apikey'],\n",
    "#                          ibm_service_instance_id=creds['resource_instance_id'],\n",
    "#                          ibm_auth_endpoint=auth_endpoint,\n",
    "#                          config=Config(signature_version='oauth'),\n",
    "#                          endpoint_url=service_endpoint)\n",
    "# transfer_manager = AsperaTransferManager(cos)"
   ]
  },
  {
   "cell_type": "code",
   "execution_count": 4,
   "metadata": {},
   "outputs": [],
   "source": [
    "bucket = cos.Bucket('w251-fp-bucket')"
   ]
  },
  {
   "cell_type": "code",
   "execution_count": 5,
   "metadata": {},
   "outputs": [],
   "source": [
    "files = list(bucket.objects.all())"
   ]
  },
  {
   "cell_type": "code",
   "execution_count": 6,
   "metadata": {
    "scrolled": true
   },
   "outputs": [
    {
     "data": {
      "text/plain": [
       "[s3.ObjectSummary(bucket_name='w251-fp-bucket', key='benign/'),\n",
       " s3.ObjectSummary(bucket_name='w251-fp-bucket', key='benign/SOB_B_A-14-22549AB-100-001.png'),\n",
       " s3.ObjectSummary(bucket_name='w251-fp-bucket', key='benign/SOB_B_A-14-22549AB-100-002.png'),\n",
       " s3.ObjectSummary(bucket_name='w251-fp-bucket', key='benign/SOB_B_A-14-22549AB-100-003.png'),\n",
       " s3.ObjectSummary(bucket_name='w251-fp-bucket', key='benign/SOB_B_A-14-22549AB-100-004.png')]"
      ]
     },
     "execution_count": 6,
     "metadata": {},
     "output_type": "execute_result"
    }
   ],
   "source": [
    "files[:5]"
   ]
  },
  {
   "cell_type": "code",
   "execution_count": 7,
   "metadata": {
    "scrolled": true
   },
   "outputs": [
    {
     "data": {
      "text/plain": [
       "['SOB_B_A-14-22549AB-100-030.png',\n",
       " 'SOB_B_A-14-22549AB-100-021.png',\n",
       " 'SOB_B_A-14-22549AB-200-002.png',\n",
       " 'SOB_B_A-14-22549AB-100-017.png',\n",
       " 'SOB_B_A-14-22549AB-200-026.png',\n",
       " 'SOB_B_A-14-22549AB-100-026.png',\n",
       " 'SOB_B_A-14-22549AB-100-015.png',\n",
       " 'SOB_B_A-14-22549AB-200-016.png',\n",
       " 'SOB_B_A-14-22549AB-200-022.png',\n",
       " 'SOB_B_A-14-22549AB-100-020.png',\n",
       " 'SOB_B_A-14-22549AB-200-010.png',\n",
       " 'SOB_B_A-14-22549AB-200-007.png',\n",
       " 'SOB_B_A-14-22549AB-100-011.png',\n",
       " 'SOB_B_A-14-22549AB-100-014.png',\n",
       " 'SOB_B_A-14-22549AB-200-018.png',\n",
       " 'SOB_B_A-14-22549AB-100-013.png',\n",
       " 'SOB_B_A-14-22549AB-200-009.png',\n",
       " 'SOB_B_A-14-22549AB-200-004.png',\n",
       " 'SOB_B_A-14-22549AB-100-019.png',\n",
       " 'SOB_B_A-14-22549AB-100-027.png',\n",
       " 'SOB_B_A-14-22549AB-200-021.png',\n",
       " 'SOB_B_A-14-22549AB-200-027.png',\n",
       " 'SOB_B_A-14-22549AB-200-023.png',\n",
       " 'SOB_B_A-14-22549AB-100-002.png',\n",
       " 'SOB_B_A-14-22549AB-200-001.png',\n",
       " 'SOB_B_A-14-22549AB-100-006.png',\n",
       " 'SOB_B_A-14-22549AB-200-017.png',\n",
       " 'SOB_B_A-14-22549AB-100-003.png',\n",
       " 'SOB_B_A-14-22549AB-100-023.png',\n",
       " 'SOB_B_A-14-22549AB-100-025.png',\n",
       " 'SOB_B_A-14-22549AB-200-020.png',\n",
       " 'SOB_B_A-14-22549AB-100-018.png',\n",
       " 'SOB_B_A-14-22549AB-100-010.png',\n",
       " 'SOB_B_A-14-22549AB-100-005.png',\n",
       " 'SOB_B_A-14-22549AB-100-022.png',\n",
       " 'SOB_B_A-14-22549AB-100-007.png',\n",
       " 'SOB_B_A-14-22549AB-200-024.png',\n",
       " 'SOB_B_A-14-22549AB-100-008.png',\n",
       " 'SOB_B_A-14-22549AB-200-012.png',\n",
       " 'SOB_B_A-14-22549AB-200-014.png',\n",
       " 'SOB_B_A-14-22549AB-100-029.png',\n",
       " 'SOB_B_A-14-22549AB-100-028.png',\n",
       " 'SOB_B_A-14-22549AB-200-005.png',\n",
       " 'SOB_B_A-14-22549AB-100-016.png',\n",
       " 'SOB_B_A-14-22549AB-100-001.png',\n",
       " 'SOB_B_A-14-22549AB-100-012.png',\n",
       " 'SOB_B_A-14-22549AB-200-003.png',\n",
       " 'SOB_B_A-14-22549AB-200-025.png',\n",
       " 'SOB_B_A-14-22549AB-200-013.png',\n",
       " 'SOB_B_A-14-22549AB-100-024.png',\n",
       " 'SOB_B_A-14-22549AB-200-006.png',\n",
       " 'SOB_B_A-14-22549AB-200-019.png',\n",
       " 'SOB_B_A-14-22549AB-100-009.png',\n",
       " 'SOB_B_A-14-22549AB-100-004.png',\n",
       " 'SOB_B_A-14-22549AB-200-015.png',\n",
       " 'SOB_B_A-14-22549AB-200-011.png',\n",
       " 'SOB_B_A-14-22549AB-200-008.png']"
      ]
     },
     "execution_count": 7,
     "metadata": {},
     "output_type": "execute_result"
    }
   ],
   "source": [
    "# savepath = args.path\n",
    "savepath = '/data/cancer_data_v1'\n",
    "os.makedirs(savepath, exist_ok=True)\n",
    "bpath = os.path.join(savepath, 'benign')\n",
    "mpath = os.path.join(savepath, 'malignant')\n",
    "os.makedirs(bpath, exist_ok=True)\n",
    "os.makedirs(mpath, exist_ok=True)\n",
    "filelist = os.listdir(bpath)\n",
    "filelist.extend(os.listdir(mpath))\n",
    "filelist"
   ]
  },
  {
   "cell_type": "code",
   "execution_count": 8,
   "metadata": {
    "scrolled": true
   },
   "outputs": [
    {
     "name": "stderr",
     "output_type": "stream",
     "text": [
      "100%|██████████| 7911/7911 [17:33<00:00,  7.51it/s]\n"
     ]
    }
   ],
   "source": [
    "for file in tqdm(files):\n",
    "    ext = file.key.split('.')[-1]\n",
    "    if 'png' not in ext:\n",
    "        continue\n",
    "    filepath = os.path.join(savepath, file.key.split('/')[-2])\n",
    "#     os.makedirs(filepath, exist_ok=True)\n",
    "#     filename = os.path.join(filepath, file.key.split('/')[-1])\n",
    "    filename = file.key.split('/')[-1]\n",
    "    if filename in filelist:\n",
    "        continue\n",
    "    else:\n",
    "        filename = os.path.join(filepath, filename)\n",
    "        bucket.download_file(file.key, filename)"
   ]
  }
 ],
 "metadata": {
  "file_extension": ".py",
  "kernelspec": {
   "display_name": "Python 3",
   "language": "python",
   "name": "python3"
  },
  "language_info": {
   "codemirror_mode": {
    "name": "ipython",
    "version": 3
   },
   "file_extension": ".py",
   "mimetype": "text/x-python",
   "name": "python",
   "nbconvert_exporter": "python",
   "pygments_lexer": "ipython3",
   "version": "3.6.8"
  },
  "mimetype": "text/x-python",
  "name": "python",
  "npconvert_exporter": "python",
  "pygments_lexer": "ipython3",
  "version": 3
 },
 "nbformat": 4,
 "nbformat_minor": 4
}
