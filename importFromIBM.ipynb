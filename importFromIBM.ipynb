{
 "cells": [
  {
   "cell_type": "code",
   "execution_count": null,
   "metadata": {},
   "outputs": [],
   "source": [
    "# Change directory to VSCode workspace root so that relative path loads work correctly. Turn this addition off with the DataScience.changeDirOnImportExport setting\n",
    "# ms-python.python added\n",
    "import os\n",
    "try:\n",
    "\tos.chdir(os.path.join(os.getcwd(), '..'))\n",
    "\tprint(os.getcwd())\n",
    "except:\n",
    "\tpass\n"
   ]
  },
  {
   "cell_type": "code",
   "execution_count": null,
   "metadata": {},
   "outputs": [],
   "source": [
    "# Importing video data from ibm COS\n"
   ]
  },
  {
   "cell_type": "code",
   "execution_count": 1,
   "metadata": {},
   "outputs": [],
   "source": [
    "import json\n",
    "import os\n",
    "import pickle\n",
    "import random\n",
    "import sys\n",
    "import time\n",
    "import argparse\n",
    "\n",
    "import cv2\n",
    "import ibm_boto3\n",
    "import numpy as np\n",
    "import pandas as pd\n",
    "from ibm_botocore.client import Config\n",
    "from tqdm import tqdm\n"
   ]
  },
  {
   "cell_type": "code",
   "execution_count": null,
   "metadata": {},
   "outputs": [],
   "source": [
    "parser = argparse.ArgumentParser()\n",
    "parser.add_argument('--path', help='path to save vids at')\n",
    "args = parser.parse_args()\n"
   ]
  },
  {
   "cell_type": "code",
   "execution_count": 10,
   "metadata": {},
   "outputs": [],
   "source": [
    "# cred_path = \"/root/creds/w251-credentials.json\"\n",
    "cred_path = \"../creds/w251-credentials.json\"\n",
    "with open(cred_path, \"r\") as f:\n",
    "    creds = json.load(f)"
   ]
  },
  {
   "cell_type": "code",
   "execution_count": 12,
   "metadata": {},
   "outputs": [],
   "source": [
    "auth_endpoint = 'https://iam.bluemix.net/oidc/token'\n",
    "service_endpoint = 'https://s3.us-east.cloud-object-storage.appdomain.cloud'\n",
    "\n",
    "# Store relevant details for interacting with IBM COS store and uploading data\n",
    "cos = ibm_boto3.resource('s3',\n",
    "                         ibm_api_key_id=creds['apikey'],\n",
    "                         ibm_service_instance_id=creds['resource_instance_id'],\n",
    "                         ibm_auth_endpoint=auth_endpoint,\n",
    "                         config=Config(signature_version='oauth'),\n",
    "                         endpoint_url=service_endpoint)"
   ]
  },
  {
   "cell_type": "code",
   "execution_count": null,
   "metadata": {},
   "outputs": [],
   "source": [
    "# FIXME: need to figure out how to install aspera for massive download speed\n",
    "# boost. Surprisingly, the docs suck\n",
    "#\n",
    "# from ibm_s3transfer.aspera.manager import AsperaTransferManager\n",
    "# cos = ibm_boto3.client('s3',\n",
    "#                          ibm_api_key_id=creds['apikey'],\n",
    "#                          ibm_service_instance_id=creds['resource_instance_id'],\n",
    "#                          ibm_auth_endpoint=auth_endpoint,\n",
    "#                          config=Config(signature_version='oauth'),\n",
    "#                          endpoint_url=service_endpoint)\n",
    "# transfer_manager = AsperaTransferManager(cos)"
   ]
  },
  {
   "cell_type": "code",
   "execution_count": 13,
   "metadata": {},
   "outputs": [],
   "source": [
    "bucket = cos.Bucket('w251-fp-bucket')"
   ]
  },
  {
   "cell_type": "code",
   "execution_count": 14,
   "metadata": {},
   "outputs": [],
   "source": [
    "files = list(bucket.objects.all())"
   ]
  },
  {
   "cell_type": "code",
   "execution_count": null,
   "metadata": {},
   "outputs": [],
   "source": [
    "savepath = args.path\n",
    "os.makedirs(savepath, exist_ok=True)\n",
    "filelist = os.listdir(savepath)\n",
    "for file in tqdm(files):\n",
    "    ext = file.key.split('.')[-1]\n",
    "    if 'mp4' not in ext and 'avi' not in ext:\n",
    "        continue\n",
    "    filename = file.key.split('/')[-1]\n",
    "    if filename in filelist:\n",
    "        continue\n",
    "    else:\n",
    "        filename = os.path.join(savepath, filename)\n",
    "        bucket.download_file(file.key, filename)\n"
   ]
  }
 ],
 "metadata": {
  "file_extension": ".py",
  "kernelspec": {
   "display_name": "Python 3",
   "language": "python",
   "name": "python3"
  },
  "language_info": {
   "codemirror_mode": {
    "name": "ipython",
    "version": 3
   },
   "file_extension": ".py",
   "mimetype": "text/x-python",
   "name": "python",
   "nbconvert_exporter": "python",
   "pygments_lexer": "ipython3",
   "version": "3.6.8"
  },
  "mimetype": "text/x-python",
  "name": "python",
  "npconvert_exporter": "python",
  "pygments_lexer": "ipython3",
  "version": 3
 },
 "nbformat": 4,
 "nbformat_minor": 4
}
