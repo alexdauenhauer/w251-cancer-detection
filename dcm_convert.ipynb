{
 "cells": [
  {
   "cell_type": "code",
   "execution_count": null,
   "metadata": {},
   "outputs": [],
   "source": [
    "from querymachine import QueryMachine\n",
    "import matplotlib.pyplot as plt\n",
    "import pydicom\n",
    "import os\n",
    "import pandas as pd\n",
    "from tqdm import tqdm\n",
    "# from sklearn.model_selection import train_test_split"
   ]
  },
  {
   "cell_type": "code",
   "execution_count": 2,
   "metadata": {},
   "outputs": [],
   "source": [
    "qm = QueryMachine()\n",
    "s = qm.getSeries()"
   ]
  },
  {
   "cell_type": "code",
   "execution_count": 3,
   "metadata": {},
   "outputs": [],
   "source": [
    "savepath = '/data/CBIS-DDSM'\n",
    "os.makedirs(savepath, exist_ok=True)\n",
    "# b_dir = savepath + '/benign'\n",
    "# m_dir = savepath + '/malignant'\n",
    "# raw_dir = savepath + '/raw_dcm'\n",
    "train_dir = savepath + '/train'\n",
    "valid_dir = savepath + '/valid'\n",
    "# os.makedirs(b_dir, exist_ok=True)\n",
    "# os.makedirs(m_dir, exist_ok=True)\n",
    "# os.makedirs(raw_dir, exist_ok=True)\n",
    "os.makedirs(train_dir, exist_ok=True)\n",
    "os.makedirs(valid_dir, exist_ok=True)\n",
    "for pth in [train_dir, valid_dir]:\n",
    "    os.makedirs(os.path.join(pth, 'benign'), exist_ok=True)\n",
    "    os.makedirs(os.path.join(pth, 'malignant'), exist_ok=True)"
   ]
  },
  {
   "cell_type": "code",
   "execution_count": 4,
   "metadata": {},
   "outputs": [
    {
     "name": "stdout",
     "output_type": "stream",
     "text": [
      "(2864, 17) (704, 17)\n"
     ]
    }
   ],
   "source": [
    "calc = pd.read_csv('calc_case_description_train_set.csv')\n",
    "mass = pd.read_csv('mass_case_description_train_set.csv')\n",
    "labels_train = calc.append(mass, sort=False)\n",
    "calc = pd.read_csv('calc_case_description_test_set.csv')\n",
    "mass = pd.read_csv('mass_case_description_test_set.csv')\n",
    "labels_test = calc.append(mass, sort=False)\n",
    "print(labels_train.shape, labels_test.shape)"
   ]
  },
  {
   "cell_type": "code",
   "execution_count": 5,
   "metadata": {},
   "outputs": [],
   "source": [
    "labels_train = labels_train.loc[:, [c for c in labels_train.columns if 'image file path' in c or 'pathology' in c]]\n",
    "labels_test = labels_test.loc[:, [c for c in labels_test.columns if 'image file path' in c or 'pathology' in c]]"
   ]
  },
  {
   "cell_type": "code",
   "execution_count": 6,
   "metadata": {},
   "outputs": [],
   "source": [
    "def getLabel(ds, labels_train, labels_test):\n",
    "    train = True\n",
    "    label = None\n",
    "    sid = ds.SeriesInstanceUID\n",
    "    pid = ds.PatientID\n",
    "    for c in labels_train.columns[1:]:\n",
    "        for i, item in enumerate(labels_train[c]):\n",
    "            if sid in item.split('/') or pid in item.split('/'):\n",
    "                label = labels_train.pathology.iloc[i]\n",
    "    if not label:\n",
    "        train = False\n",
    "        for c in labels_test.columns[1:]:\n",
    "            for i, item in enumerate(labels_test[c]):\n",
    "                if sid in item.split('/') or pid in item.split('/'):\n",
    "                    label = labels_test.pathology.iloc[i]\n",
    "    return train, label"
   ]
  },
  {
   "cell_type": "code",
   "execution_count": 7,
   "metadata": {},
   "outputs": [],
   "source": [
    "def downloadImages(ids, labels_train, labels_test, savepath):\n",
    "    roi_counter = 0\n",
    "    img_counter = 0\n",
    "    for item in tqdm(ids):\n",
    "        series_id = item['SeriesInstanceUID']\n",
    "        if 'ROI' in item['SeriesDescription']:\n",
    "            roi_counter += int(item['ImageCount'])\n",
    "        else:\n",
    "            img_counter += int(item['ImageCount'])\n",
    "        qm.getSeriesImages(series_id, savepath=savepath)\n",
    "        images = [f for f in os.listdir(savepath) if '.dcm' in f]\n",
    "        for f in images:\n",
    "            filepath = os.path.join(savepath, f)\n",
    "            try:\n",
    "                ds = pydicom.dcmread(filepath)\n",
    "            except:\n",
    "                continue\n",
    "            os.remove(filepath)\n",
    "            train, label = getLabel(ds, labels_train, labels_test)\n",
    "            if not label:\n",
    "                return ds\n",
    "            if train:\n",
    "                jpg_savepath = savepath + '/train'\n",
    "            else:\n",
    "                jpg_savepath = savepath + '/valid'\n",
    "            jpg_savepath = jpg_savepath + '/' + label.split('_')[0].lower()\n",
    "            jpg_filepath = os.path.join(jpg_savepath, f)\n",
    "            jpg_filepath = jpg_filepath.replace('.dcm', '.jpg')\n",
    "            ds.decompress()\n",
    "            img = ds.pixel_array\n",
    "            plt.imsave(jpg_filepath, ds.pixel_array,\n",
    "                       vmin=0, vmax=2**16, format='jpg')\n",
    "    return roi_counter, img_counter"
   ]
  },
  {
   "cell_type": "code",
   "execution_count": null,
   "metadata": {},
   "outputs": [
    {
     "name": "stderr",
     "output_type": "stream",
     "text": [
      "  3%|▎         | 214/6775 [04:56<2:08:06,  1.17s/it]"
     ]
    }
   ],
   "source": [
    "roi_counter, img_counter = downloadImages(s.json(), labels_train, labels_test, savepath)"
   ]
  },
  {
   "cell_type": "code",
   "execution_count": 24,
   "metadata": {},
   "outputs": [
    {
     "data": {
      "text/plain": [
       "35"
      ]
     },
     "execution_count": 24,
     "metadata": {},
     "output_type": "execute_result"
    }
   ],
   "source": [
    "counter = 0\n",
    "for dirname, subdirs, filenames in os.walk(savepath):\n",
    "    for f in filenames:\n",
    "        counter += 1\n",
    "counter"
   ]
  },
  {
   "cell_type": "code",
   "execution_count": 25,
   "metadata": {},
   "outputs": [
    {
     "data": {
      "text/plain": [
       "2"
      ]
     },
     "execution_count": 25,
     "metadata": {},
     "output_type": "execute_result"
    }
   ],
   "source": [
    "img_counter"
   ]
  },
  {
   "cell_type": "code",
   "execution_count": 14,
   "metadata": {},
   "outputs": [
    {
     "data": {
      "text/plain": [
       "0"
      ]
     },
     "execution_count": 14,
     "metadata": {},
     "output_type": "execute_result"
    }
   ],
   "source": [
    "counter"
   ]
  },
  {
   "cell_type": "code",
   "execution_count": 20,
   "metadata": {},
   "outputs": [
    {
     "data": {
      "text/plain": [
       "'Calc-Training_P_00474_LEFT_MLO_1'"
      ]
     },
     "execution_count": 20,
     "metadata": {},
     "output_type": "execute_result"
    }
   ],
   "source": [
    "ds.PatientID"
   ]
  },
  {
   "cell_type": "code",
   "execution_count": 8,
   "metadata": {},
   "outputs": [
    {
     "name": "stderr",
     "output_type": "stream",
     "text": [
      " 94%|█████████▍| 6384/6775 [2:08:50<10:54,  1.67s/it]  "
     ]
    },
    {
     "ename": "AttributeError",
     "evalue": "'NoneType' object has no attribute 'split'",
     "output_type": "error",
     "traceback": [
      "\u001b[0;31m---------------------------------------------------------------------------\u001b[0m",
      "\u001b[0;31mAttributeError\u001b[0m                            Traceback (most recent call last)",
      "\u001b[0;32m<ipython-input-8-b02562db3d20>\u001b[0m in \u001b[0;36m<module>\u001b[0;34m\u001b[0m\n\u001b[0;32m----> 1\u001b[0;31m \u001b[0mdownloadImages\u001b[0m\u001b[0;34m(\u001b[0m\u001b[0ms\u001b[0m\u001b[0;34m.\u001b[0m\u001b[0mjson\u001b[0m\u001b[0;34m(\u001b[0m\u001b[0;34m)\u001b[0m\u001b[0;34m,\u001b[0m \u001b[0mlabels_train\u001b[0m\u001b[0;34m,\u001b[0m \u001b[0mlabels_test\u001b[0m\u001b[0;34m,\u001b[0m \u001b[0msavepath\u001b[0m\u001b[0;34m)\u001b[0m\u001b[0;34m\u001b[0m\u001b[0;34m\u001b[0m\u001b[0m\n\u001b[0m",
      "\u001b[0;32m<ipython-input-7-5a12ef304c71>\u001b[0m in \u001b[0;36mdownloadImages\u001b[0;34m(ids, labels_train, labels_test, savepath)\u001b[0m\n\u001b[1;32m     18\u001b[0m             \u001b[0;32melse\u001b[0m\u001b[0;34m:\u001b[0m\u001b[0;34m\u001b[0m\u001b[0;34m\u001b[0m\u001b[0m\n\u001b[1;32m     19\u001b[0m                 \u001b[0mjpg_savepath\u001b[0m \u001b[0;34m=\u001b[0m \u001b[0msavepath\u001b[0m \u001b[0;34m+\u001b[0m \u001b[0;34m'/valid'\u001b[0m\u001b[0;34m\u001b[0m\u001b[0;34m\u001b[0m\u001b[0m\n\u001b[0;32m---> 20\u001b[0;31m             \u001b[0mjpg_savepath\u001b[0m \u001b[0;34m=\u001b[0m \u001b[0mjpg_savepath\u001b[0m \u001b[0;34m+\u001b[0m \u001b[0;34m'/'\u001b[0m \u001b[0;34m+\u001b[0m \u001b[0mlabel\u001b[0m\u001b[0;34m.\u001b[0m\u001b[0msplit\u001b[0m\u001b[0;34m(\u001b[0m\u001b[0;34m'_'\u001b[0m\u001b[0;34m)\u001b[0m\u001b[0;34m[\u001b[0m\u001b[0;36m0\u001b[0m\u001b[0;34m]\u001b[0m\u001b[0;34m.\u001b[0m\u001b[0mlower\u001b[0m\u001b[0;34m(\u001b[0m\u001b[0;34m)\u001b[0m\u001b[0;34m\u001b[0m\u001b[0;34m\u001b[0m\u001b[0m\n\u001b[0m\u001b[1;32m     21\u001b[0m             \u001b[0mjpg_filepath\u001b[0m \u001b[0;34m=\u001b[0m \u001b[0mos\u001b[0m\u001b[0;34m.\u001b[0m\u001b[0mpath\u001b[0m\u001b[0;34m.\u001b[0m\u001b[0mjoin\u001b[0m\u001b[0;34m(\u001b[0m\u001b[0mjpg_savepath\u001b[0m\u001b[0;34m,\u001b[0m \u001b[0mf\u001b[0m\u001b[0;34m)\u001b[0m\u001b[0;34m\u001b[0m\u001b[0;34m\u001b[0m\u001b[0m\n\u001b[1;32m     22\u001b[0m             \u001b[0mjpg_filepath\u001b[0m \u001b[0;34m=\u001b[0m \u001b[0mjpg_filepath\u001b[0m\u001b[0;34m.\u001b[0m\u001b[0mreplace\u001b[0m\u001b[0;34m(\u001b[0m\u001b[0;34m'.dcm'\u001b[0m\u001b[0;34m,\u001b[0m \u001b[0;34m'.jpg'\u001b[0m\u001b[0;34m)\u001b[0m\u001b[0;34m\u001b[0m\u001b[0;34m\u001b[0m\u001b[0m\n",
      "\u001b[0;31mAttributeError\u001b[0m: 'NoneType' object has no attribute 'split'"
     ]
    },
    {
     "name": "stderr",
     "output_type": "stream",
     "text": [
      " 94%|█████████▍| 6384/6775 [2:09:10<10:54,  1.67s/it]"
     ]
    }
   ],
   "source": [
    "downloadImages(s.json(), labels_train, labels_test, savepath)"
   ]
  },
  {
   "cell_type": "code",
   "execution_count": 13,
   "metadata": {},
   "outputs": [
    {
     "name": "stdout",
     "output_type": "stream",
     "text": [
      "1044\n"
     ]
    }
   ],
   "source": [
    "counter = 0\n",
    "for dirname, subdirs, filenames in os.walk(savepath):\n",
    "    for f in filenames:\n",
    "        counter += 1\n",
    "print(counter)"
   ]
  },
  {
   "cell_type": "code",
   "execution_count": 24,
   "metadata": {},
   "outputs": [
    {
     "name": "stdout",
     "output_type": "stream",
     "text": [
      "1572\n"
     ]
    }
   ],
   "source": [
    "counter = 0\n",
    "for dirname, subdirs, filenames in os.walk(savepath):\n",
    "    for f in filenames:\n",
    "        counter += 1\n",
    "print(counter)"
   ]
  },
  {
   "cell_type": "code",
   "execution_count": 14,
   "metadata": {},
   "outputs": [
    {
     "data": {
      "text/plain": [
       "'/data/CBIS-DDSM'"
      ]
     },
     "execution_count": 14,
     "metadata": {},
     "output_type": "execute_result"
    }
   ],
   "source": [
    "savepath"
   ]
  },
  {
   "cell_type": "code",
   "execution_count": 25,
   "metadata": {},
   "outputs": [],
   "source": [
    "sid = ds.SeriesInstanceUID\n",
    "for c in labels.columns[1:]:\n",
    "    for i, item in enumerate(labels[c]):\n",
    "        if sid in item.split('/'):\n",
    "            label = labels.pathology.iloc[i]"
   ]
  },
  {
   "cell_type": "code",
   "execution_count": 26,
   "metadata": {},
   "outputs": [
    {
     "ename": "NameError",
     "evalue": "name 'label' is not defined",
     "output_type": "error",
     "traceback": [
      "\u001b[0;31m---------------------------------------------------------------------------\u001b[0m",
      "\u001b[0;31mNameError\u001b[0m                                 Traceback (most recent call last)",
      "\u001b[0;32m<ipython-input-26-a889fef81a04>\u001b[0m in \u001b[0;36m<module>\u001b[0;34m\u001b[0m\n\u001b[0;32m----> 1\u001b[0;31m \u001b[0mlabel\u001b[0m\u001b[0;34m\u001b[0m\u001b[0;34m\u001b[0m\u001b[0m\n\u001b[0m",
      "\u001b[0;31mNameError\u001b[0m: name 'label' is not defined"
     ]
    }
   ],
   "source": [
    "label"
   ]
  },
  {
   "cell_type": "code",
   "execution_count": 27,
   "metadata": {},
   "outputs": [
    {
     "data": {
      "text/plain": [
       "(2864, 3)"
      ]
     },
     "execution_count": 27,
     "metadata": {},
     "output_type": "execute_result"
    }
   ],
   "source": [
    "labels.shape"
   ]
  },
  {
   "cell_type": "code",
   "execution_count": 28,
   "metadata": {},
   "outputs": [
    {
     "name": "stdout",
     "output_type": "stream",
     "text": [
      "None\n"
     ]
    }
   ],
   "source": [
    "sid = 'Mass-Test_P_01595_LEFT_CC_1'\n",
    "label = None\n",
    "for c in labels.columns[1:]:\n",
    "    for i, item in enumerate(labels[c]):\n",
    "        if sid in item.split('/'):\n",
    "            label = labels.pathology.iloc[i]\n",
    "print(label)"
   ]
  },
  {
   "cell_type": "code",
   "execution_count": 10,
   "metadata": {},
   "outputs": [
    {
     "name": "stderr",
     "output_type": "stream",
     "text": [
      "100%|██████████| 10/10 [00:03<00:00,  2.86it/s]\n"
     ]
    }
   ],
   "source": [
    "downloadImages(test[:10], labels, savepath, train=False)"
   ]
  },
  {
   "cell_type": "code",
   "execution_count": null,
   "metadata": {},
   "outputs": [],
   "source": []
  },
  {
   "cell_type": "code",
   "execution_count": 3,
   "metadata": {},
   "outputs": [
    {
     "name": "stdout",
     "output_type": "stream",
     "text": [
      "(1546, 14)\n",
      "(2864, 17)\n"
     ]
    },
    {
     "name": "stderr",
     "output_type": "stream",
     "text": [
      "/root/w251fp/lib/python3.6/site-packages/pandas/core/frame.py:7138: FutureWarning: Sorting because non-concatenation axis is not aligned. A future version\n",
      "of pandas will change to not sort by default.\n",
      "\n",
      "To accept the future behavior, pass 'sort=False'.\n",
      "\n",
      "To retain the current behavior and silence the warning, pass 'sort=True'.\n",
      "\n",
      "  sort=sort,\n"
     ]
    }
   ],
   "source": [
    "calc = pd.read_csv('calc_case_description_train_set.csv')\n",
    "print(calc.shape)\n",
    "mass = pd.read_csv('mass_case_description_train_set.csv')\n",
    "df = calc.append(mass)\n",
    "print(df.shape)"
   ]
  },
  {
   "cell_type": "code",
   "execution_count": 6,
   "metadata": {},
   "outputs": [
    {
     "data": {
      "text/plain": [
       "['/data/CBIS-DDSM/1-292.dcm',\n",
       " '/data/CBIS-DDSM/2-136.dcm',\n",
       " '/data/CBIS-DDSM/1-118.dcm',\n",
       " '/data/CBIS-DDSM/2-246.dcm',\n",
       " '/data/CBIS-DDSM/2-168.dcm',\n",
       " '/data/CBIS-DDSM/1-250.dcm',\n",
       " '/data/CBIS-DDSM/2-122.dcm',\n",
       " '/data/CBIS-DDSM/2-102.dcm',\n",
       " '/data/CBIS-DDSM/2-112.dcm']"
      ]
     },
     "execution_count": 6,
     "metadata": {},
     "output_type": "execute_result"
    }
   ],
   "source": [
    "dcm_files = [os.path.join(savepath, f) for f in os.listdir(savepath) if '.dcm' in f]\n",
    "dcm_files"
   ]
  },
  {
   "cell_type": "code",
   "execution_count": 18,
   "metadata": {},
   "outputs": [
    {
     "data": {
      "text/html": [
       "<div>\n",
       "<style scoped>\n",
       "    .dataframe tbody tr th:only-of-type {\n",
       "        vertical-align: middle;\n",
       "    }\n",
       "\n",
       "    .dataframe tbody tr th {\n",
       "        vertical-align: top;\n",
       "    }\n",
       "\n",
       "    .dataframe thead th {\n",
       "        text-align: right;\n",
       "    }\n",
       "</style>\n",
       "<table border=\"1\" class=\"dataframe\">\n",
       "  <thead>\n",
       "    <tr style=\"text-align: right;\">\n",
       "      <th></th>\n",
       "      <th>pathology</th>\n",
       "      <th>image file path</th>\n",
       "      <th>cropped image file path</th>\n",
       "    </tr>\n",
       "  </thead>\n",
       "  <tbody>\n",
       "    <tr>\n",
       "      <th>0</th>\n",
       "      <td>MALIGNANT</td>\n",
       "      <td>Calc-Training_P_00005_RIGHT_CC/1.3.6.1.4.1.959...</td>\n",
       "      <td>Calc-Training_P_00005_RIGHT_CC_1/1.3.6.1.4.1.9...</td>\n",
       "    </tr>\n",
       "    <tr>\n",
       "      <th>1</th>\n",
       "      <td>MALIGNANT</td>\n",
       "      <td>Calc-Training_P_00005_RIGHT_MLO/1.3.6.1.4.1.95...</td>\n",
       "      <td>Calc-Training_P_00005_RIGHT_MLO_1/1.3.6.1.4.1....</td>\n",
       "    </tr>\n",
       "    <tr>\n",
       "      <th>2</th>\n",
       "      <td>BENIGN</td>\n",
       "      <td>Calc-Training_P_00007_LEFT_CC/1.3.6.1.4.1.9590...</td>\n",
       "      <td>Calc-Training_P_00007_LEFT_CC_1/1.3.6.1.4.1.95...</td>\n",
       "    </tr>\n",
       "    <tr>\n",
       "      <th>3</th>\n",
       "      <td>BENIGN</td>\n",
       "      <td>Calc-Training_P_00007_LEFT_MLO/1.3.6.1.4.1.959...</td>\n",
       "      <td>Calc-Training_P_00007_LEFT_MLO_1/1.3.6.1.4.1.9...</td>\n",
       "    </tr>\n",
       "    <tr>\n",
       "      <th>4</th>\n",
       "      <td>BENIGN_WITHOUT_CALLBACK</td>\n",
       "      <td>Calc-Training_P_00008_LEFT_CC/1.3.6.1.4.1.9590...</td>\n",
       "      <td>Calc-Training_P_00008_LEFT_CC_1/1.3.6.1.4.1.95...</td>\n",
       "    </tr>\n",
       "  </tbody>\n",
       "</table>\n",
       "</div>"
      ],
      "text/plain": [
       "                 pathology                                    image file path  \\\n",
       "0                MALIGNANT  Calc-Training_P_00005_RIGHT_CC/1.3.6.1.4.1.959...   \n",
       "1                MALIGNANT  Calc-Training_P_00005_RIGHT_MLO/1.3.6.1.4.1.95...   \n",
       "2                   BENIGN  Calc-Training_P_00007_LEFT_CC/1.3.6.1.4.1.9590...   \n",
       "3                   BENIGN  Calc-Training_P_00007_LEFT_MLO/1.3.6.1.4.1.959...   \n",
       "4  BENIGN_WITHOUT_CALLBACK  Calc-Training_P_00008_LEFT_CC/1.3.6.1.4.1.9590...   \n",
       "\n",
       "                             cropped image file path  \n",
       "0  Calc-Training_P_00005_RIGHT_CC_1/1.3.6.1.4.1.9...  \n",
       "1  Calc-Training_P_00005_RIGHT_MLO_1/1.3.6.1.4.1....  \n",
       "2  Calc-Training_P_00007_LEFT_CC_1/1.3.6.1.4.1.95...  \n",
       "3  Calc-Training_P_00007_LEFT_MLO_1/1.3.6.1.4.1.9...  \n",
       "4  Calc-Training_P_00008_LEFT_CC_1/1.3.6.1.4.1.95...  "
      ]
     },
     "execution_count": 18,
     "metadata": {},
     "output_type": "execute_result"
    }
   ],
   "source": [
    "img_files = df.loc[:, [c for c in calc.columns if 'image file path' in c or 'pathology' in c]]\n",
    "img_files.head()"
   ]
  },
  {
   "cell_type": "code",
   "execution_count": 14,
   "metadata": {},
   "outputs": [
    {
     "data": {
      "text/plain": [
       "'1.3.6.1.4.1.9590.100.1.2.43873839610761788013224723323225482381'"
      ]
     },
     "execution_count": 14,
     "metadata": {},
     "output_type": "execute_result"
    }
   ],
   "source": [
    "ds.SeriesInstanceUID"
   ]
  },
  {
   "cell_type": "code",
   "execution_count": 16,
   "metadata": {},
   "outputs": [
    {
     "name": "stdout",
     "output_type": "stream",
     "text": [
      "cropped images\n",
      "cropped images\n",
      "cropped images\n",
      "cropped images\n",
      "cropped images\n",
      "cropped images\n",
      "cropped images\n",
      "cropped images\n",
      "cropped images\n"
     ]
    }
   ],
   "source": [
    "for f in dcm_files:\n",
    "    ds = pydicom.dcmread(f)\n",
    "    print(ds.SeriesDescription)"
   ]
  },
  {
   "cell_type": "code",
   "execution_count": 15,
   "metadata": {},
   "outputs": [
    {
     "name": "stdout",
     "output_type": "stream",
     "text": [
      "/data/CBIS-DDSM/1-292.dcm 1591 Mass-Training_P_00061_RIGHT_MLO_1/1.3.6.1.4.1.9590.100.1.2.195593486612988388325770883972107282733/1.3.6.1.4.1.9590.100.1.2.43873839610761788013224723323225482381/000000.dcm cropped image file path \n",
      "\n",
      "/data/CBIS-DDSM/1-292.dcm 1591 Mass-Training_P_00061_RIGHT_MLO_1/1.3.6.1.4.1.9590.100.1.2.195593486612988388325770883972107282733/1.3.6.1.4.1.9590.100.1.2.43873839610761788013224723323225482381/000001.dcm\n",
      " ROI mask file path \n",
      "\n",
      "/data/CBIS-DDSM/2-136.dcm 1913 Mass-Training_P_00519_RIGHT_CC_1/1.3.6.1.4.1.9590.100.1.2.143790815011189157220543617630697462001/1.3.6.1.4.1.9590.100.1.2.245633900110007082034118990512969470333/000000.dcm cropped image file path \n",
      "\n",
      "/data/CBIS-DDSM/2-136.dcm 1913 Mass-Training_P_00519_RIGHT_CC_1/1.3.6.1.4.1.9590.100.1.2.143790815011189157220543617630697462001/1.3.6.1.4.1.9590.100.1.2.245633900110007082034118990512969470333/000001.dcm\n",
      " ROI mask file path \n",
      "\n",
      "/data/CBIS-DDSM/1-118.dcm 2421 Mass-Training_P_01250_RIGHT_MLO_1/1.3.6.1.4.1.9590.100.1.2.310228111811303452111342857131681135070/1.3.6.1.4.1.9590.100.1.2.45131627713144582424202640662752027993/000000.dcm cropped image file path \n",
      "\n",
      "/data/CBIS-DDSM/1-118.dcm 2421 Mass-Training_P_01250_RIGHT_MLO_1/1.3.6.1.4.1.9590.100.1.2.310228111811303452111342857131681135070/1.3.6.1.4.1.9590.100.1.2.45131627713144582424202640662752027993/000001.dcm\n",
      " ROI mask file path \n",
      "\n",
      "/data/CBIS-DDSM/2-246.dcm 2246 Mass-Training_P_01009_RIGHT_CC_1/1.3.6.1.4.1.9590.100.1.2.229361142710768138411679379233064924540/1.3.6.1.4.1.9590.100.1.2.117041576511324414842508325652101471266/000000.dcm cropped image file path \n",
      "\n",
      "/data/CBIS-DDSM/2-246.dcm 2246 Mass-Training_P_01009_RIGHT_CC_1/1.3.6.1.4.1.9590.100.1.2.229361142710768138411679379233064924540/1.3.6.1.4.1.9590.100.1.2.117041576511324414842508325652101471266/000001.dcm\n",
      " ROI mask file path \n",
      "\n",
      "/data/CBIS-DDSM/2-168.dcm 1831 Mass-Training_P_00417_RIGHT_MLO_1/1.3.6.1.4.1.9590.100.1.2.109468616710242115222536802734027827120/1.3.6.1.4.1.9590.100.1.2.296931352612305599800425693833437698626/000000.dcm cropped image file path \n",
      "\n",
      "/data/CBIS-DDSM/2-168.dcm 1831 Mass-Training_P_00417_RIGHT_MLO_1/1.3.6.1.4.1.9590.100.1.2.109468616710242115222536802734027827120/1.3.6.1.4.1.9590.100.1.2.296931352612305599800425693833437698626/000001.dcm\n",
      " ROI mask file path \n",
      "\n",
      "/data/CBIS-DDSM/1-250.dcm 2863 Mass-Training_P_02092_LEFT_MLO_1/1.3.6.1.4.1.9590.100.1.2.195655760513031195523320296122940320213/1.3.6.1.4.1.9590.100.1.2.321062807811123845106490625560193258924/000000.dcm cropped image file path \n",
      "\n",
      "/data/CBIS-DDSM/2-122.dcm 1977 Mass-Training_P_00617_RIGHT_MLO_1/1.3.6.1.4.1.9590.100.1.2.257901172612530623323924356380431605062/1.3.6.1.4.1.9590.100.1.2.76741674113167646338262765132488965294/000000.dcm cropped image file path \n",
      "\n",
      "/data/CBIS-DDSM/2-122.dcm 1977 Mass-Training_P_00617_RIGHT_MLO_1/1.3.6.1.4.1.9590.100.1.2.257901172612530623323924356380431605062/1.3.6.1.4.1.9590.100.1.2.76741674113167646338262765132488965294/000001.dcm\n",
      " ROI mask file path \n",
      "\n",
      "/data/CBIS-DDSM/2-102.dcm 2310 Mass-Training_P_01112_LEFT_MLO_1/1.3.6.1.4.1.9590.100.1.2.407538725111828839342756496710990319312/1.3.6.1.4.1.9590.100.1.2.59331645212722964919598145441897056623/000000.dcm cropped image file path \n",
      "\n",
      "/data/CBIS-DDSM/2-102.dcm 2310 Mass-Training_P_01112_LEFT_MLO_1/1.3.6.1.4.1.9590.100.1.2.407538725111828839342756496710990319312/1.3.6.1.4.1.9590.100.1.2.59331645212722964919598145441897056623/000001.dcm\n",
      " ROI mask file path \n",
      "\n",
      "/data/CBIS-DDSM/2-112.dcm 2676 Mass-Training_P_01635_LEFT_CC_1/1.3.6.1.4.1.9590.100.1.2.380627129513562450304304820723973964760/1.3.6.1.4.1.9590.100.1.2.43665767012035310007732414810147712942/000000.dcm cropped image file path \n",
      "\n",
      "/data/CBIS-DDSM/2-112.dcm 2676 Mass-Training_P_01635_LEFT_CC_1/1.3.6.1.4.1.9590.100.1.2.380627129513562450304304820723973964760/1.3.6.1.4.1.9590.100.1.2.43665767012035310007732414810147712942/000001.dcm\n",
      " ROI mask file path \n",
      "\n"
     ]
    }
   ],
   "source": [
    "for f in dcm_files:\n",
    "    ds = pydicom.dcmread(f)\n",
    "    sop = ds.SeriesInstanceUID\n",
    "    for c in img_files.columns:\n",
    "        for i, item in enumerate(img_files[c]):\n",
    "            if sop in item.split('/'):\n",
    "                print(f, i, item, c, '\\n')"
   ]
  },
  {
   "cell_type": "code",
   "execution_count": null,
   "metadata": {},
   "outputs": [],
   "source": [
    "for item in img_files.iloc[1591, :]:\n",
    "    "
   ]
  }
 ],
 "metadata": {
  "file_extension": ".py",
  "kernelspec": {
   "display_name": "Python 3",
   "language": "python",
   "name": "python3"
  },
  "language_info": {
   "codemirror_mode": {
    "name": "ipython",
    "version": 3
   },
   "file_extension": ".py",
   "mimetype": "text/x-python",
   "name": "python",
   "nbconvert_exporter": "python",
   "pygments_lexer": "ipython3",
   "version": "3.6.8"
  },
  "mimetype": "text/x-python",
  "name": "python",
  "npconvert_exporter": "python",
  "pygments_lexer": "ipython3",
  "version": 3
 },
 "nbformat": 4,
 "nbformat_minor": 4
}
